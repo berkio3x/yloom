{
 "cells": [
  {
   "cell_type": "code",
   "execution_count": 2,
   "metadata": {},
   "outputs": [],
   "source": [
    "# how much calories?\n",
    "# how much calories?\n",
    "\n",
    "\n",
    "# weight units are in grams.\n",
    "carbs_per_meal = 50\n",
    "\n",
    "GIindexWheatChappti = 62\n",
    "GIBarley = 25\n",
    "GIOats = 55\n",
    "GIBrownRic = 55\n",
    "\n",
    "GIPChanaDal = 8\n",
    "GIPSoyabeans = 18\n",
    "GIPMoong = 38\n",
    "GIPBlackPea = 51\n",
    "\n",
    "GILadiesFinger\n"
   ]
  },
  {
   "cell_type": "code",
   "execution_count": 31,
   "metadata": {},
   "outputs": [],
   "source": [
    "# Define a consumable category whith diffrent attributes.\n",
    "\n",
    "class Consumable:\n",
    "    def __init__(self, Name, Category, GIindex=None, Calories=None, Carbs=None, Vitamins=None, Protiens=None):\n",
    "        self.Name = Name\n",
    "        self.Category = Category\n",
    "        self.GIindex = GIindex\n",
    "        self.Calories = Calories\n",
    "        self.Carbs = Carbs\n",
    "        self.Vitamins = Vitamins\n",
    "        self.Protiens = Protiens\n",
    "    def __repr__(self):\n",
    "        return f\"{self.Name}({self.GIindex})\"\n",
    "    \n",
    "    def __lt__(self, other):\n",
    "        return self.GIindex < other.GIindex\n",
    "\n",
    "    "
   ]
  },
  {
   "cell_type": "code",
   "execution_count": 32,
   "metadata": {},
   "outputs": [],
   "source": [
    "# Create some common consumable types\n",
    "consumables_list = [\n",
    "    Consumable(Name='Chana Dal', Category='Pulses', GIindex=8),\n",
    "    Consumable(Name='Black Pea', Category='Pulses', GIindex=51),\n",
    "    Consumable(Name='Soya Beans', Category='Pulses', GIindex=18),\n",
    "    Consumable(Name='Moong Dal', Category='Pulses', GIindex=38),\n",
    "    \n",
    "    Consumable(Name='Cauli flower', Category='Vegetable', GIindex=15),\n",
    "    Consumable(Name='French Beans', Category='Vegetable', GIindex=15),\n",
    "    Consumable(Name='Green Peas', Category='Vegetable', GIindex=48),\n",
    "    Consumable(Name='Ladies Finger', Category='Vegetable', GIindex=20),\n",
    "\n",
    "    \n",
    "    Consumable(Name='Barley ',Category='Cereal', GIindex=25),\n",
    "    Consumable(Name='Wheat', Category='Cereal', GIindex=54),\n",
    "    Consumable(Name='Oats', Category='Cereal', GIindex=55),\n",
    "    Consumable(Name='Brown Rice', Category='Cereal', GIindex=55),\n",
    "]\n",
    "\n"
   ]
  },
  {
   "cell_type": "code",
   "execution_count": 33,
   "metadata": {},
   "outputs": [
    {
     "name": "stdout",
     "output_type": "stream",
     "text": [
      "[Chana Dal(8),\n",
      " Black Pea(51),\n",
      " Soya Beans(18),\n",
      " Moong Dal(38),\n",
      " Cauli flower(15),\n",
      " French Beans(15),\n",
      " Green Peas(48),\n",
      " Ladies Finger(20),\n",
      " Barley (25),\n",
      " Wheat(54),\n",
      " Oats(55),\n",
      " Brown Rice(55)]\n"
     ]
    }
   ],
   "source": [
    "import pprint;pprint.pprint(consumables_list)"
   ]
  },
  {
   "cell_type": "code",
   "execution_count": null,
   "metadata": {},
   "outputs": [],
   "source": [
    "# sort by lowest to highest\n",
    "\n",
    "consumables_list.sort(key=lambda x:x.GIindex)\n",
    "pprint.pprint(consumables_list)"
   ]
  },
  {
   "cell_type": "code",
   "execution_count": null,
   "metadata": {},
   "outputs": [],
   "source": []
  }
 ],
 "metadata": {
  "kernelspec": {
   "display_name": "Python 3",
   "language": "python",
   "name": "python3"
  },
  "language_info": {
   "codemirror_mode": {
    "name": "ipython",
    "version": 3
   },
   "file_extension": ".py",
   "mimetype": "text/x-python",
   "name": "python",
   "nbconvert_exporter": "python",
   "pygments_lexer": "ipython3",
   "version": "3.7.6"
  }
 },
 "nbformat": 4,
 "nbformat_minor": 4
}
